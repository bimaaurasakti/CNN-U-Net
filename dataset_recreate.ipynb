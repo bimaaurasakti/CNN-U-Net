{
 "cells": [
  {
   "attachments": {},
   "cell_type": "markdown",
   "metadata": {},
   "source": [
    "# Processing Dataset"
   ]
  },
  {
   "attachments": {},
   "cell_type": "markdown",
   "metadata": {},
   "source": [
    "reprocess and re-augment the dataset"
   ]
  },
  {
   "cell_type": "code",
   "execution_count": null,
   "metadata": {},
   "outputs": [],
   "source": [
    "import shutil\n",
    "import os\n",
    "\n",
    "if os.path.exists('final-dataset/test/'):\n",
    "    shutil.rmtree('final-dataset/test/')\n",
    "    shutil.rmtree('final-dataset/train/')\n",
    "    shutil.rmtree('final-dataset/val/')\n",
    "if os.path.exists('preprocessed-dataset/images/'):\n",
    "    shutil.rmtree('preprocessed-dataset/images/')\n",
    "    shutil.rmtree('preprocessed-dataset/masking/')\n",
    "if os.path.exists('augmented-dataset/images/'):\n",
    "    shutil.rmtree('augmented-dataset/images/')\n",
    "    shutil.rmtree('augmented-dataset/masking/')\n",
    "if os.path.exists('splitted-dataset'):\n",
    "    shutil.rmtree('splitted-dataset')\n",
    "\n",
    "exec(open('dataset_preprocessing.py').read())\n",
    "exec(open('dataset_augmentation.py').read())"
   ]
  }
 ],
 "metadata": {
  "kernelspec": {
   "display_name": "unet",
   "language": "python",
   "name": "python3"
  },
  "language_info": {
   "codemirror_mode": {
    "name": "ipython",
    "version": 3
   },
   "file_extension": ".py",
   "mimetype": "text/x-python",
   "name": "python",
   "nbconvert_exporter": "python",
   "pygments_lexer": "ipython3",
   "version": "3.11.3"
  },
  "orig_nbformat": 4
 },
 "nbformat": 4,
 "nbformat_minor": 2
}

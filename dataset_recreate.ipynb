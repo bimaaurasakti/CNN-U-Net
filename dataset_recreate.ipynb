{
 "cells": [
  {
   "attachments": {},
   "cell_type": "markdown",
   "metadata": {},
   "source": [
    "# Processing Dataset"
   ]
  },
  {
   "attachments": {},
   "cell_type": "markdown",
   "metadata": {},
   "source": [
    "reprocess and re-augment the dataset"
   ]
  },
  {
   "cell_type": "code",
   "execution_count": 1,
   "metadata": {},
   "outputs": [
    {
     "data": {
      "application/vnd.jupyter.widget-view+json": {
       "model_id": "8db84af7760544e9a1dd8dfcc662298b",
       "version_major": 2,
       "version_minor": 0
      },
      "text/plain": [
       "images:   0%|          | 0/15 [00:00<?, ?iter/s]"
      ]
     },
     "metadata": {},
     "output_type": "display_data"
    },
    {
     "data": {
      "application/vnd.jupyter.widget-view+json": {
       "model_id": "2b7e41d7678748eca2fbc46721494860",
       "version_major": 2,
       "version_minor": 0
      },
      "text/plain": [
       "masking:   0%|          | 0/16 [00:00<?, ?iter/s]"
      ]
     },
     "metadata": {},
     "output_type": "display_data"
    },
    {
     "name": "stdout",
     "output_type": "stream",
     "text": [
      "Initialised with 337 image(s) found.\n",
      "Output directory set to temp-augmented-dataset/images\\output."
     ]
    },
    {
     "name": "stderr",
     "output_type": "stream",
     "text": [
      "                                                        \r"
     ]
    },
    {
     "name": "stdout",
     "output_type": "stream",
     "text": [
      "337 ground truth image(s) found.\n"
     ]
    },
    {
     "name": "stderr",
     "output_type": "stream",
     "text": [
      "Processing <PIL.Image.Image image mode=RGB size=224x224 at 0x1D0E042B0D0>: 100%|██████████| 5000/5000 [00:10<00:00, 468.50 Samples/s]                   \n"
     ]
    },
    {
     "data": {
      "application/vnd.jupyter.widget-view+json": {
       "model_id": "8a97879b42424584bb51cd93804a0413",
       "version_major": 2,
       "version_minor": 0
      },
      "text/plain": [
       "split augmentation result:   0%|          | 0/10000 [00:00<?, ?iter/s]"
      ]
     },
     "metadata": {},
     "output_type": "display_data"
    },
    {
     "data": {
      "application/vnd.jupyter.widget-view+json": {
       "model_id": "80bc144bccc04176900fe3ecb002203a",
       "version_major": 2,
       "version_minor": 0
      },
      "text/plain": [
       "renaming augmented data:   0%|          | 0/5000 [00:00<?, ?iter/s]"
      ]
     },
     "metadata": {},
     "output_type": "display_data"
    },
    {
     "data": {
      "application/vnd.jupyter.widget-view+json": {
       "model_id": "a554c79c38274dca950b37d1d13413ce",
       "version_major": 2,
       "version_minor": 0
      },
      "text/plain": [
       "renaming augmented data:   0%|          | 0/5000 [00:00<?, ?iter/s]"
      ]
     },
     "metadata": {},
     "output_type": "display_data"
    },
    {
     "data": {
      "application/vnd.jupyter.widget-view+json": {
       "model_id": "8d5733c16c104f8eaeac5dcf45eb9421",
       "version_major": 2,
       "version_minor": 0
      },
      "text/plain": [
       "images:   0%|          | 0/24 [00:00<?, ?iter/s]"
      ]
     },
     "metadata": {},
     "output_type": "display_data"
    },
    {
     "data": {
      "application/vnd.jupyter.widget-view+json": {
       "model_id": "12732fcd6f8f49fcb6517de3188f077d",
       "version_major": 2,
       "version_minor": 0
      },
      "text/plain": [
       "masking:   0%|          | 0/25 [00:00<?, ?iter/s]"
      ]
     },
     "metadata": {},
     "output_type": "display_data"
    }
   ],
   "source": [
    "import shutil\n",
    "import os\n",
    "\n",
    "if os.path.exists('final-dataset/test/'):\n",
    "    shutil.rmtree('final-dataset/test/')\n",
    "    shutil.rmtree('final-dataset/train/')\n",
    "    shutil.rmtree('final-dataset/val/')\n",
    "if os.path.exists('preprocessed-dataset/images/'):\n",
    "    shutil.rmtree('preprocessed-dataset/images/')\n",
    "    shutil.rmtree('preprocessed-dataset/masking/')\n",
    "if os.path.exists('augmented-dataset/images/'):\n",
    "    shutil.rmtree('augmented-dataset/images/')\n",
    "    shutil.rmtree('augmented-dataset/masking/')\n",
    "\n",
    "exec(open('dataset_preprocessing.py').read())\n",
    "exec(open('dataset_augmentation.py').read())"
   ]
  }
 ],
 "metadata": {
  "kernelspec": {
   "display_name": "unet",
   "language": "python",
   "name": "python3"
  },
  "language_info": {
   "codemirror_mode": {
    "name": "ipython",
    "version": 3
   },
   "file_extension": ".py",
   "mimetype": "text/x-python",
   "name": "python",
   "nbconvert_exporter": "python",
   "pygments_lexer": "ipython3",
   "version": "3.11.3"
  },
  "orig_nbformat": 4
 },
 "nbformat": 4,
 "nbformat_minor": 2
}

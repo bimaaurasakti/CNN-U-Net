{
 "cells": [
  {
   "attachments": {},
   "cell_type": "markdown",
   "metadata": {},
   "source": [
    "# Processing Dataset"
   ]
  },
  {
   "attachments": {},
   "cell_type": "markdown",
   "metadata": {},
   "source": [
    "reprocess and re-augment the dataset"
   ]
  },
  {
   "cell_type": "code",
   "execution_count": 1,
   "metadata": {},
   "outputs": [
    {
     "data": {
      "application/vnd.jupyter.widget-view+json": {
       "model_id": "3981055489304f32a9e076c5aa795511",
       "version_major": 2,
       "version_minor": 0
      },
      "text/plain": [
       "images:   0%|          | 0/15 [00:00<?, ?iter/s]"
      ]
     },
     "metadata": {},
     "output_type": "display_data"
    },
    {
     "data": {
      "application/vnd.jupyter.widget-view+json": {
       "model_id": "dc899fe236e9497baa8bc72ec5ded3ac",
       "version_major": 2,
       "version_minor": 0
      },
      "text/plain": [
       "masking:   0%|          | 0/16 [00:00<?, ?iter/s]"
      ]
     },
     "metadata": {},
     "output_type": "display_data"
    },
    {
     "name": "stdout",
     "output_type": "stream",
     "text": [
      "Initialised with 337 image(s) found.\n",
      "Output directory set to temp-augmented-dataset/images\\output."
     ]
    },
    {
     "name": "stderr",
     "output_type": "stream",
     "text": [
      "                                                        \r"
     ]
    },
    {
     "name": "stdout",
     "output_type": "stream",
     "text": [
      "337 ground truth image(s) found.\n"
     ]
    },
    {
     "name": "stderr",
     "output_type": "stream",
     "text": [
      "Processing <PIL.Image.Image image mode=RGB size=1024x1024 at 0x24D62F3A610>: 100%|██████████| 5000/5000 [00:53<00:00, 94.28 Samples/s]                   \n"
     ]
    },
    {
     "data": {
      "application/vnd.jupyter.widget-view+json": {
       "model_id": "7129c63d758541e5a67eab27a82d5934",
       "version_major": 2,
       "version_minor": 0
      },
      "text/plain": [
       "split augmentation result:   0%|          | 0/10000 [00:00<?, ?iter/s]"
      ]
     },
     "metadata": {},
     "output_type": "display_data"
    },
    {
     "data": {
      "application/vnd.jupyter.widget-view+json": {
       "model_id": "672de0fb9e574c26ba430ad1055cd493",
       "version_major": 2,
       "version_minor": 0
      },
      "text/plain": [
       "renaming augmented data:   0%|          | 0/5000 [00:00<?, ?iter/s]"
      ]
     },
     "metadata": {},
     "output_type": "display_data"
    },
    {
     "data": {
      "application/vnd.jupyter.widget-view+json": {
       "model_id": "c8547740ca6048fabffb3e0ded2442f1",
       "version_major": 2,
       "version_minor": 0
      },
      "text/plain": [
       "renaming augmented data:   0%|          | 0/5000 [00:00<?, ?iter/s]"
      ]
     },
     "metadata": {},
     "output_type": "display_data"
    },
    {
     "data": {
      "application/vnd.jupyter.widget-view+json": {
       "model_id": "728096be807545749091866b739b5cb7",
       "version_major": 2,
       "version_minor": 0
      },
      "text/plain": [
       "images:   0%|          | 0/24 [00:00<?, ?iter/s]"
      ]
     },
     "metadata": {},
     "output_type": "display_data"
    },
    {
     "data": {
      "application/vnd.jupyter.widget-view+json": {
       "model_id": "2c481b49b87c40b1864fe70c9173eac1",
       "version_major": 2,
       "version_minor": 0
      },
      "text/plain": [
       "masking:   0%|          | 0/25 [00:00<?, ?iter/s]"
      ]
     },
     "metadata": {},
     "output_type": "display_data"
    }
   ],
   "source": [
    "import shutil\n",
    "import os\n",
    "\n",
    "if os.path.exists('final-dataset/test/'):\n",
    "    shutil.rmtree('final-dataset/test/')\n",
    "    shutil.rmtree('final-dataset/train/')\n",
    "    shutil.rmtree('final-dataset/val/')\n",
    "if os.path.exists('preprocessed-dataset/images/'):\n",
    "    shutil.rmtree('preprocessed-dataset/images/')\n",
    "    shutil.rmtree('preprocessed-dataset/masking/')\n",
    "if os.path.exists('augmented-dataset/images/'):\n",
    "    shutil.rmtree('augmented-dataset/images/')\n",
    "    shutil.rmtree('augmented-dataset/masking/')\n",
    "\n",
    "exec(open('dataset_preprocessing.py').read())\n",
    "exec(open('dataset_augmentation.py').read())"
   ]
  }
 ],
 "metadata": {
  "kernelspec": {
   "display_name": "unet",
   "language": "python",
   "name": "python3"
  },
  "language_info": {
   "codemirror_mode": {
    "name": "ipython",
    "version": 3
   },
   "file_extension": ".py",
   "mimetype": "text/x-python",
   "name": "python",
   "nbconvert_exporter": "python",
   "pygments_lexer": "ipython3",
   "version": "3.11.3"
  },
  "orig_nbformat": 4
 },
 "nbformat": 4,
 "nbformat_minor": 2
}
